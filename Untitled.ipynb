{
 "cells": [
  {
   "cell_type": "code",
   "execution_count": 17,
   "id": "be24ec7e-833d-44e3-b2d4-b1993503ca8a",
   "metadata": {},
   "outputs": [],
   "source": [
    "import pandas as pd\n",
    "import numpy as np\n",
    "import matplotlib.pyplot as plt\n",
    "import torch\n",
    "from pickleset import PickleDataset\n"
   ]
  },
  {
   "cell_type": "code",
   "execution_count": 18,
   "id": "4eef7305-822d-428c-9476-ff8940826250",
   "metadata": {},
   "outputs": [],
   "source": [
    "seed = 0\n",
    "torch.manual_seed(seed)\n",
    "torch.cuda.manual_seed(seed)\n",
    "torch.cuda.manual_seed_all(seed)"
   ]
  },
  {
   "cell_type": "code",
   "execution_count": 19,
   "id": "0e4b1d2e-0181-4036-9871-e0f083c68a8d",
   "metadata": {},
   "outputs": [],
   "source": [
    "### MODEL"
   ]
  },
  {
   "cell_type": "code",
   "execution_count": 20,
   "id": "8666b4f9-42fd-4b66-bb79-42216feaab92",
   "metadata": {},
   "outputs": [],
   "source": [
    "from torch import nn"
   ]
  },
  {
   "cell_type": "code",
   "execution_count": 21,
   "id": "6595f0ca-b505-49f7-919f-da600592ef1f",
   "metadata": {},
   "outputs": [],
   "source": [
    "class Binary_SVM(nn.Module):\n",
    "    def __init(self, n_features):\n",
    "        super(Binary_SVM, self).__init__()\n",
    "        self.linear = nn.Linear(n_features, 1)\n",
    "\n",
    "    def forward(self, x):\n",
    "        out = self.linear(x) # tensor(N x 1)  \n",
    "        out = out.squeeze() # tensor(N)\n",
    "        return out"
   ]
  },
  {
   "cell_type": "code",
   "execution_count": 22,
   "id": "65a6b83e-63d6-4ce3-9fa8-7006beae1474",
   "metadata": {},
   "outputs": [],
   "source": [
    "# DATASET"
   ]
  },
  {
   "cell_type": "code",
   "execution_count": 24,
   "id": "62b75454-ea0d-4551-b44b-a179be3d9745",
   "metadata": {},
   "outputs": [],
   "source": [
    "from torch.utils.data import DataLoader"
   ]
  },
  {
   "cell_type": "code",
   "execution_count": 23,
   "id": "a784ffcb-9271-45dd-bbb8-36cfdf08eb39",
   "metadata": {},
   "outputs": [
    {
     "name": "stdout",
     "output_type": "stream",
     "text": [
      "86351807 pickled rows of data exist!\n"
     ]
    }
   ],
   "source": [
    "pds = PickleDataset(train_size=40, test_size=10, max_saved_chunks=16)"
   ]
  },
  {
   "cell_type": "code",
   "execution_count": null,
   "id": "4f226951-f2e3-4e43-afaf-e3c117f83f22",
   "metadata": {},
   "outputs": [],
   "source": []
  }
 ],
 "metadata": {
  "kernelspec": {
   "display_name": "Python 3 (ipykernel)",
   "language": "python",
   "name": "python3"
  },
  "language_info": {
   "codemirror_mode": {
    "name": "ipython",
    "version": 3
   },
   "file_extension": ".py",
   "mimetype": "text/x-python",
   "name": "python",
   "nbconvert_exporter": "python",
   "pygments_lexer": "ipython3",
   "version": "3.10.7"
  }
 },
 "nbformat": 4,
 "nbformat_minor": 5
}
