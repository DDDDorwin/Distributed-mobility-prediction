{
 "cells": [
  {
   "cell_type": "code",
   "execution_count": 1,
   "id": "ae0042c9",
   "metadata": {},
   "outputs": [],
   "source": [
    "import pandas as pd\n",
    "import numpy as np\n",
    "import matplotlib.pyplot as plt\n",
    "import seaborn as sns"
   ]
  },
  {
   "cell_type": "code",
   "execution_count": 2,
   "id": "e0fb4a4e",
   "metadata": {},
   "outputs": [],
   "source": [
    "#Import dataset\n",
    "filename = 'Projectcs/dataset/20131201.txt'\n",
    "delimiter= '\\t'"
   ]
  },
  {
   "cell_type": "code",
   "execution_count": 3,
   "id": "61d9fb0a",
   "metadata": {},
   "outputs": [
    {
     "data": {
      "text/html": [
       "<div>\n",
       "<style scoped>\n",
       "    .dataframe tbody tr th:only-of-type {\n",
       "        vertical-align: middle;\n",
       "    }\n",
       "\n",
       "    .dataframe tbody tr th {\n",
       "        vertical-align: top;\n",
       "    }\n",
       "\n",
       "    .dataframe thead th {\n",
       "        text-align: right;\n",
       "    }\n",
       "</style>\n",
       "<table border=\"1\" class=\"dataframe\">\n",
       "  <thead>\n",
       "    <tr style=\"text-align: right;\">\n",
       "      <th></th>\n",
       "      <th>1</th>\n",
       "      <th>1385852400000</th>\n",
       "      <th>39</th>\n",
       "      <th>0.11098916961424417</th>\n",
       "      <th>0.16621436886121638</th>\n",
       "      <th>0.10920185950874473</th>\n",
       "      <th>0.16442705875571695</th>\n",
       "      <th>13.648437920592805</th>\n",
       "    </tr>\n",
       "  </thead>\n",
       "  <tbody>\n",
       "    <tr>\n",
       "      <th>0</th>\n",
       "      <td>1</td>\n",
       "      <td>1385852400000</td>\n",
       "      <td>46</td>\n",
       "      <td>NaN</td>\n",
       "      <td>NaN</td>\n",
       "      <td>NaN</td>\n",
       "      <td>NaN</td>\n",
       "      <td>0.026137</td>\n",
       "    </tr>\n",
       "    <tr>\n",
       "      <th>1</th>\n",
       "      <td>1</td>\n",
       "      <td>1385853000000</td>\n",
       "      <td>39</td>\n",
       "      <td>0.165137</td>\n",
       "      <td>0.176399</td>\n",
       "      <td>0.030875</td>\n",
       "      <td>0.027300</td>\n",
       "      <td>13.330858</td>\n",
       "    </tr>\n",
       "    <tr>\n",
       "      <th>2</th>\n",
       "      <td>1</td>\n",
       "      <td>1385853600000</td>\n",
       "      <td>0</td>\n",
       "      <td>0.029088</td>\n",
       "      <td>0.027300</td>\n",
       "      <td>NaN</td>\n",
       "      <td>NaN</td>\n",
       "      <td>NaN</td>\n",
       "    </tr>\n",
       "    <tr>\n",
       "      <th>3</th>\n",
       "      <td>1</td>\n",
       "      <td>1385853600000</td>\n",
       "      <td>39</td>\n",
       "      <td>0.186451</td>\n",
       "      <td>0.136588</td>\n",
       "      <td>0.054601</td>\n",
       "      <td>NaN</td>\n",
       "      <td>11.329552</td>\n",
       "    </tr>\n",
       "    <tr>\n",
       "      <th>4</th>\n",
       "      <td>1</td>\n",
       "      <td>1385854200000</td>\n",
       "      <td>39</td>\n",
       "      <td>0.219652</td>\n",
       "      <td>0.381129</td>\n",
       "      <td>0.082526</td>\n",
       "      <td>0.135964</td>\n",
       "      <td>13.166163</td>\n",
       "    </tr>\n",
       "  </tbody>\n",
       "</table>\n",
       "</div>"
      ],
      "text/plain": [
       "   1  1385852400000  39  0.11098916961424417  0.16621436886121638  \\\n",
       "0  1  1385852400000  46                  NaN                  NaN   \n",
       "1  1  1385853000000  39             0.165137             0.176399   \n",
       "2  1  1385853600000   0             0.029088             0.027300   \n",
       "3  1  1385853600000  39             0.186451             0.136588   \n",
       "4  1  1385854200000  39             0.219652             0.381129   \n",
       "\n",
       "   0.10920185950874473  0.16442705875571695  13.648437920592805  \n",
       "0                  NaN                  NaN            0.026137  \n",
       "1             0.030875             0.027300           13.330858  \n",
       "2                  NaN                  NaN                 NaN  \n",
       "3             0.054601                  NaN           11.329552  \n",
       "4             0.082526             0.135964           13.166163  "
      ]
     },
     "execution_count": 3,
     "metadata": {},
     "output_type": "execute_result"
    }
   ],
   "source": [
    "df = pd.read_csv(filename, delimiter=delimiter)\n",
    "df.head()"
   ]
  },
  {
   "cell_type": "code",
   "execution_count": 4,
   "id": "9eb7a392",
   "metadata": {},
   "outputs": [
    {
     "data": {
      "text/html": [
       "<div>\n",
       "<style scoped>\n",
       "    .dataframe tbody tr th:only-of-type {\n",
       "        vertical-align: middle;\n",
       "    }\n",
       "\n",
       "    .dataframe tbody tr th {\n",
       "        vertical-align: top;\n",
       "    }\n",
       "\n",
       "    .dataframe thead th {\n",
       "        text-align: right;\n",
       "    }\n",
       "</style>\n",
       "<table border=\"1\" class=\"dataframe\">\n",
       "  <thead>\n",
       "    <tr style=\"text-align: right;\">\n",
       "      <th></th>\n",
       "      <th>Square_id</th>\n",
       "      <th>Time_interval</th>\n",
       "      <th>Country_code</th>\n",
       "      <th>SMS_in</th>\n",
       "      <th>SMS_out</th>\n",
       "      <th>Call_in</th>\n",
       "      <th>Call_out</th>\n",
       "      <th>Internet_traffic</th>\n",
       "    </tr>\n",
       "  </thead>\n",
       "  <tbody>\n",
       "    <tr>\n",
       "      <th>0</th>\n",
       "      <td>1</td>\n",
       "      <td>1385852400000</td>\n",
       "      <td>46</td>\n",
       "      <td>NaN</td>\n",
       "      <td>NaN</td>\n",
       "      <td>NaN</td>\n",
       "      <td>NaN</td>\n",
       "      <td>0.026137</td>\n",
       "    </tr>\n",
       "    <tr>\n",
       "      <th>1</th>\n",
       "      <td>1</td>\n",
       "      <td>1385853000000</td>\n",
       "      <td>39</td>\n",
       "      <td>0.165137</td>\n",
       "      <td>0.176399</td>\n",
       "      <td>0.030875</td>\n",
       "      <td>0.027300</td>\n",
       "      <td>13.330858</td>\n",
       "    </tr>\n",
       "    <tr>\n",
       "      <th>2</th>\n",
       "      <td>1</td>\n",
       "      <td>1385853600000</td>\n",
       "      <td>0</td>\n",
       "      <td>0.029088</td>\n",
       "      <td>0.027300</td>\n",
       "      <td>NaN</td>\n",
       "      <td>NaN</td>\n",
       "      <td>NaN</td>\n",
       "    </tr>\n",
       "    <tr>\n",
       "      <th>3</th>\n",
       "      <td>1</td>\n",
       "      <td>1385853600000</td>\n",
       "      <td>39</td>\n",
       "      <td>0.186451</td>\n",
       "      <td>0.136588</td>\n",
       "      <td>0.054601</td>\n",
       "      <td>NaN</td>\n",
       "      <td>11.329552</td>\n",
       "    </tr>\n",
       "    <tr>\n",
       "      <th>4</th>\n",
       "      <td>1</td>\n",
       "      <td>1385854200000</td>\n",
       "      <td>39</td>\n",
       "      <td>0.219652</td>\n",
       "      <td>0.381129</td>\n",
       "      <td>0.082526</td>\n",
       "      <td>0.135964</td>\n",
       "      <td>13.166163</td>\n",
       "    </tr>\n",
       "  </tbody>\n",
       "</table>\n",
       "</div>"
      ],
      "text/plain": [
       "   Square_id  Time_interval  Country_code    SMS_in   SMS_out   Call_in  \\\n",
       "0          1  1385852400000            46       NaN       NaN       NaN   \n",
       "1          1  1385853000000            39  0.165137  0.176399  0.030875   \n",
       "2          1  1385853600000             0  0.029088  0.027300       NaN   \n",
       "3          1  1385853600000            39  0.186451  0.136588  0.054601   \n",
       "4          1  1385854200000            39  0.219652  0.381129  0.082526   \n",
       "\n",
       "   Call_out  Internet_traffic  \n",
       "0       NaN          0.026137  \n",
       "1  0.027300         13.330858  \n",
       "2       NaN               NaN  \n",
       "3       NaN         11.329552  \n",
       "4  0.135964         13.166163  "
      ]
     },
     "execution_count": 4,
     "metadata": {},
     "output_type": "execute_result"
    }
   ],
   "source": [
    "#Define columns\n",
    "column_names = ['Square_id',\n",
    "               'Time_interval',\n",
    "               'Country_code',\n",
    "               'SMS_in',\n",
    "               'SMS_out',\n",
    "               'Call_in',\n",
    "               'Call_out',\n",
    "               'Internet_traffic']\n",
    "\n",
    "df.columns = column_names\n",
    "df.head()"
   ]
  },
  {
   "cell_type": "code",
   "execution_count": 5,
   "id": "628185c5",
   "metadata": {},
   "outputs": [
    {
     "name": "stdout",
     "output_type": "stream",
     "text": [
      "Number of missing Time_interval values:0\n"
     ]
    }
   ],
   "source": [
    "#Check for missing values\n",
    "missing_time_intervals = df['Time_interval'].isna().sum()\n",
    "\n",
    "print(f\"Number of missing Time_interval values:{missing_time_intervals}\")\n"
   ]
  },
  {
   "cell_type": "code",
   "execution_count": 6,
   "id": "144183ff",
   "metadata": {},
   "outputs": [
    {
     "name": "stdout",
     "output_type": "stream",
     "text": [
      "There are no zero values\n"
     ]
    }
   ],
   "source": [
    "#Check for zero values\n",
    "zero_time_intervals = (df['Time_interval']==0).sum()\n",
    "\n",
    "#if there is any \n",
    "if zero_time_intervals > 0:\n",
    "    print(f\"There are {zero_time_intervals} zero values.\")\n",
    "else:\n",
    "    print(\"There are no zero values\")"
   ]
  },
  {
   "cell_type": "code",
   "execution_count": 7,
   "id": "0f4b38ca",
   "metadata": {},
   "outputs": [
    {
     "name": "stdout",
     "output_type": "stream",
     "text": [
      "          Square_id  Time_interval  Country_code        SMS_in       SMS_out  \\\n",
      "count  4.438330e+06   4.438330e+06  4.438330e+06  2.631500e+06  1.533935e+06   \n",
      "mean   5.161353e+03   1.385901e+12  1.972649e+02  1.684572e+00  1.737836e+00   \n",
      "std    2.753360e+03   2.238041e+07  3.210737e+03  3.884038e+00  4.393522e+00   \n",
      "min    1.000000e+00   1.385852e+12  0.000000e+00  2.331498e-06  2.331498e-06   \n",
      "25%    2.977000e+03   1.385885e+12  1.000000e+00  1.433891e-01  1.454195e-01   \n",
      "50%    5.259000e+03   1.385903e+12  3.900000e+01  5.196422e-01  5.030412e-01   \n",
      "75%    7.421000e+03   1.385919e+12  4.400000e+01  1.629083e+00  1.581608e+00   \n",
      "max    1.000000e+04   1.385938e+12  9.725900e+04  2.773546e+02  2.049408e+02   \n",
      "\n",
      "            Call_in      Call_out  Internet_traffic  \n",
      "count  1.420723e+06  2.083289e+06      2.198449e+06  \n",
      "mean   1.714071e+00  1.415853e+00      3.658177e+01  \n",
      "std    3.914805e+00  3.826234e+00      8.770331e+01  \n",
      "min    2.331498e-06  2.331498e-06      2.331498e-06  \n",
      "25%    1.216831e-01  7.658587e-02      1.806177e-01  \n",
      "50%    4.772948e-01  2.903673e-01      9.643740e+00  \n",
      "75%    1.660234e+00  1.147071e+00      3.626927e+01  \n",
      "max    2.442607e+02  2.390378e+02      6.946213e+03  \n"
     ]
    }
   ],
   "source": [
    "print(df.describe())"
   ]
  },
  {
   "cell_type": "code",
   "execution_count": 8,
   "id": "11618c00",
   "metadata": {},
   "outputs": [
    {
     "name": "stdout",
     "output_type": "stream",
     "text": [
      "Total raws:4438330\n",
      "SMS_in missing rows:1806830 missing percentage:40.71%  \n",
      "SMS_out missing rows:2904395 missing percentage:65.44%  \n",
      "Call_in missing rows:3017607 missing percentage:67.99%  \n",
      "Call_out missing rows:2355041 missing percentage:53.06%  \n",
      "Internet_traffic missing rows:2239881 missing percentage:50.47%  \n"
     ]
    }
   ],
   "source": [
    "#Values missing per column in percetages\n",
    "features = ['SMS_in',\n",
    "            'SMS_out',\n",
    "            'Call_in',\n",
    "            'Call_out',\n",
    "            'Internet_traffic']\n",
    "\n",
    "total_rows = len(df)\n",
    "\n",
    "missing_counts = {}\n",
    "missing_percentages = {}\n",
    "\n",
    "for feature in features:\n",
    "    missing_count = df[feature].isna().sum()\n",
    "    missing_percentage = (missing_count /total_rows) * 100\n",
    "    missing_percentages[feature] = missing_percentage\n",
    "    missing_counts[feature] = missing_count\n",
    "    \n",
    "print(f\"Total raws:{total_rows}\")\n",
    "for feature, percentage in missing_percentages.items():\n",
    "    print(f\"{feature} missing rows:{missing_counts[feature]} missing percentage:{percentage:.2f}%  \")\n",
    "    "
   ]
  },
  {
   "cell_type": "code",
   "execution_count": 9,
   "id": "245eaead",
   "metadata": {},
   "outputs": [
    {
     "data": {
      "image/png": "[encoded data removed]",
      "text/plain": [
       "<Figure size 640x480 with 1 Axes>"
      ]
     },
     "metadata": {},
     "output_type": "display_data"
    }
   ],
   "source": [
    "#Plot data distrubution \n",
    "plt.scatter(df['Time_interval'], df['SMS_in'])\n",
    "plt.xlabel('Time_interval')\n",
    "plt.ylabel('SMS_in')\n",
    "plt.title('Scatter Plot')\n",
    "plt.show()"
   ]
  },
  {
   "cell_type": "code",
   "execution_count": 10,
   "id": "7a030ca9",
   "metadata": {},
   "outputs": [
    {
     "data": {
      "image/png": "[encoded data removed]",
      "text/plain": [
       "<Figure size 640x480 with 1 Axes>"
      ]
     },
     "metadata": {},
     "output_type": "display_data"
    }
   ],
   "source": [
    "plt.boxplot(df['Time_interval'])\n",
    "plt.xlabel('Time_interval')\n",
    "plt.ylabel('Values')\n",
    "plt.title('Box Plot for Outliers')\n",
    "plt.show()"
   ]
  }
 ],
 "metadata": {
  "kernelspec": {
   "display_name": "Python 3 (ipykernel)",
   "language": "python",
   "name": "python3"
  },
  "language_info": {
   "codemirror_mode": {
    "name": "ipython",
    "version": 3
   },
   "file_extension": ".py",
   "mimetype": "text/x-python",
   "name": "python",
   "nbconvert_exporter": "python",
   "pygments_lexer": "ipython3",
   "version": "3.9.13"
  }
 },
 "nbformat": 4,
 "nbformat_minor": 5
}
